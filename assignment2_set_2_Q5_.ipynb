{
  "nbformat": 4,
  "nbformat_minor": 0,
  "metadata": {
    "colab": {
      "provenance": [],
      "authorship_tag": "ABX9TyN2/MLh7JOh7Tf9+zhv0uC5",
      "include_colab_link": true
    },
    "kernelspec": {
      "name": "python3",
      "display_name": "Python 3"
    },
    "language_info": {
      "name": "python"
    }
  },
  "cells": [
    {
      "cell_type": "markdown",
      "metadata": {
        "id": "view-in-github",
        "colab_type": "text"
      },
      "source": [
        "<a href=\"https://colab.research.google.com/github/bhanupriya9916/bhanu121998/blob/main/assignment2_set_2_Q5_.ipynb\" target=\"_parent\"><img src=\"https://colab.research.google.com/assets/colab-badge.svg\" alt=\"Open In Colab\"/></a>"
      ]
    },
    {
      "cell_type": "code",
      "execution_count": 14,
      "metadata": {
        "id": "QxOxfzR1YyKU"
      },
      "outputs": [],
      "source": [
        "import numpy as np\n",
        "from scipy import stats\n",
        "from scipy.stats import norm"
      ]
    },
    {
      "cell_type": "code",
      "source": [
        "# Mean profits from two different divisions of a company = Mean1 + Mean2\n",
        "Mean = 5+7\n",
        "print('Mean Profit is Rs', Mean*45,'Million')"
      ],
      "metadata": {
        "colab": {
          "base_uri": "https://localhost:8080/"
        },
        "id": "K5DibrelY2Ee",
        "outputId": "a091d4bd-3591-4f3c-e141-29e8951b14db"
      },
      "execution_count": 11,
      "outputs": [
        {
          "output_type": "stream",
          "name": "stdout",
          "text": [
            "Mean Profit is Rs 540 Million\n"
          ]
        }
      ]
    },
    {
      "cell_type": "code",
      "source": [
        "# Variance of profits from two different divisions of a company = SD^2 = SD1^2 + SD2^2\n",
        "SD = np.sqrt((9)+(16))\n",
        "print('Standard Deviation is Rs', SD*45, 'Million')"
      ],
      "metadata": {
        "colab": {
          "base_uri": "https://localhost:8080/"
        },
        "id": "Ow0d7-FsZBvf",
        "outputId": "d109f42e-2ccc-43b6-db1e-01f25c006243"
      },
      "execution_count": 15,
      "outputs": [
        {
          "output_type": "stream",
          "name": "stdout",
          "text": [
            "Standard Deviation is Rs 225.0 Million\n"
          ]
        }
      ]
    },
    {
      "cell_type": "code",
      "source": [
        "# A. Specify a Rupee range (centered on the mean) such that it contains 95% probability for the annual profit of the company.\n",
        "print('Range is Rs',(stats.norm.interval(0.95,540,225)),'in Millions')"
      ],
      "metadata": {
        "colab": {
          "base_uri": "https://localhost:8080/"
        },
        "id": "oMgrgmsQZFsX",
        "outputId": "37b3f4d8-2197-4eef-fc8c-9d20ca412ac9"
      },
      "execution_count": 16,
      "outputs": [
        {
          "output_type": "stream",
          "name": "stdout",
          "text": [
            "Range is Rs (99.00810347848784, 980.9918965215122) in Millions\n"
          ]
        }
      ]
    },
    {
      "cell_type": "code",
      "source": [
        "# B. Specify the 5th percentile of profit (in Rupees) for the company\n",
        "# To compute 5th Percentile, we use the formula X=μ + Zσ; wherein from z table, 5 percentile = -1.645\n",
        "X= 540+(-1.645)*(225)\n",
        "print('5th percentile of profit (in Million Rupees) is',np.round(X,))"
      ],
      "metadata": {
        "colab": {
          "base_uri": "https://localhost:8080/"
        },
        "id": "asAP1nsVZMvU",
        "outputId": "5e2f7d5d-d788-4459-e474-d0a260c36150"
      },
      "execution_count": 17,
      "outputs": [
        {
          "output_type": "stream",
          "name": "stdout",
          "text": [
            "5th percentile of profit (in Million Rupees) is 170.0\n"
          ]
        }
      ]
    },
    {
      "cell_type": "code",
      "source": [
        "# C. Which of the two divisions has a larger probability of making a loss in a given year?\n",
        "# Probability of Division 1 making a loss P(X<0)\n",
        "stats.norm.cdf(0,5,3)"
      ],
      "metadata": {
        "colab": {
          "base_uri": "https://localhost:8080/"
        },
        "id": "tEobgFb0ZQ-y",
        "outputId": "08f6d420-cd64-4802-f4c4-3ad29b198b7a"
      },
      "execution_count": 18,
      "outputs": [
        {
          "output_type": "execute_result",
          "data": {
            "text/plain": [
              "0.0477903522728147"
            ]
          },
          "metadata": {},
          "execution_count": 18
        }
      ]
    },
    {
      "cell_type": "code",
      "source": [
        "# Probability of Division 2 making a loss P(X<0)\n",
        "stats.norm.cdf(0,7,4)"
      ],
      "metadata": {
        "colab": {
          "base_uri": "https://localhost:8080/"
        },
        "id": "EPfAwIlibkEk",
        "outputId": "317c6631-2950-468f-f001-85d678431f51"
      },
      "execution_count": 19,
      "outputs": [
        {
          "output_type": "execute_result",
          "data": {
            "text/plain": [
              "0.040059156863817086"
            ]
          },
          "metadata": {},
          "execution_count": 19
        }
      ]
    },
    {
      "cell_type": "code",
      "source": [],
      "metadata": {
        "id": "f00sXZeYbmMh"
      },
      "execution_count": null,
      "outputs": []
    }
  ]
}